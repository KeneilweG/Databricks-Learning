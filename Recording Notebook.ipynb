{
 "cells": [
  {
   "cell_type": "markdown",
   "metadata": {
    "application/vnd.databricks.v1+cell": {
     "cellMetadata": {},
     "inputWidgets": {},
     "nuid": "7309f9ad-626e-4c7a-a535-8bd4b3bd77a2",
     "showTitle": false,
     "tableResultSettingsMap": {},
     "title": ""
    }
   },
   "source": [
    "# Python Logical Conditions\n",
    "- Equals a==b - In Python we use 2 equal signs to say equal to \n",
    "- (The above you dont have to declare like this when declaring a variable buut you use it to compare two variables)\n",
    "- Not equals a!=b \n",
    "- Greater than a>b\n",
    "- Less than a<b\n",
    "- Less than ot equal to a<=b\n",
    "- Greater than or equal to a>=b\n"
   ]
  },
  {
   "cell_type": "markdown",
   "metadata": {
    "application/vnd.databricks.v1+cell": {
     "cellMetadata": {},
     "inputWidgets": {},
     "nuid": "2ee33846-695f-441b-8c4f-af5a31215634",
     "showTitle": false,
     "tableResultSettingsMap": {},
     "title": ""
    }
   },
   "source": [
    "- We building some logical conditions also in Python\n",
    "- In SQL if a condition is not met we will then have another when statement in SQL (you can have multiple conditions)\n",
    "- But then now in Python we could also do the same, We use ELIF to put the second condition\n",
    "- ANd SQL if none of the conditions are not met we use else, **ELSE doesnt have a condition** AND IT TAKES IN THE DEFAULT VALUE\n",
    "- Else is saying if none of the conditions are not met return a default value\n",
    "- When you putting the conditions you can put all the Python logical conditions"
   ]
  },
  {
   "cell_type": "markdown",
   "metadata": {
    "application/vnd.databricks.v1+cell": {
     "cellMetadata": {},
     "inputWidgets": {},
     "nuid": "a9c53e8a-5440-49db-84e2-e35374f9451f",
     "showTitle": false,
     "tableResultSettingsMap": {},
     "title": ""
    }
   },
   "source": [
    "- So in Python you dont specify the table name but specify the variable, Weput the table inside the variable, that why we dont use the table name we declare what we call Data Ingestion, then we store or declare the table inside the variable\n",
    "- Variable is container that stores information , we declare a variable to store information"
   ]
  },
  {
   "cell_type": "code",
   "execution_count": 0,
   "metadata": {
    "application/vnd.databricks.v1+cell": {
     "cellMetadata": {
      "byteLimit": 2048000,
      "rowLimit": 10000
     },
     "inputWidgets": {},
     "nuid": "d92ce64c-a3be-48dd-9be3-76baf3383a17",
     "showTitle": false,
     "tableResultSettingsMap": {},
     "title": ""
    }
   },
   "outputs": [],
   "source": [
    "a=10\n",
    "b=1\n",
    "#(Below is the condition)\n",
    "if a==b:\n",
    "  print(\"Keneilwe you are a queen\")\n",
    "elif a>b:\n",
    "    print('Soon you will be driving believe it')\n",
    "else :\n",
    "    print('default')"
   ]
  },
  {
   "cell_type": "code",
   "execution_count": 0,
   "metadata": {
    "application/vnd.databricks.v1+cell": {
     "cellMetadata": {},
     "inputWidgets": {},
     "nuid": "9a6de2ab-6f0d-4b63-960b-ed46ea45080a",
     "showTitle": false,
     "tableResultSettingsMap": {},
     "title": ""
    }
   },
   "outputs": [],
   "source": [
    "%sql\n",
    "SELECT *\n",
    "CASE \n",
    "  WHEN a=b THEN 'Kenny'\n",
    "  WHEN a>b THEN 'hellos'\n",
    "  WHEN a>=b THEN 'hellos'\n",
    "  ELSE 'default value'\n",
    "FROM tablename"
   ]
  },
  {
   "cell_type": "markdown",
   "metadata": {
    "application/vnd.databricks.v1+cell": {
     "cellMetadata": {},
     "inputWidgets": {},
     "nuid": "f43660b0-6c73-4443-a498-a2a1a141597f",
     "showTitle": false,
     "tableResultSettingsMap": {},
     "title": ""
    }
   },
   "source": [
    "## Have the entire dataset stored in a table CVS and how will that work"
   ]
  },
  {
   "cell_type": "markdown",
   "metadata": {
    "application/vnd.databricks.v1+cell": {
     "cellMetadata": {},
     "inputWidgets": {},
     "nuid": "0a04a677-dea2-44ed-9c9f-fe1f0651cdfe",
     "showTitle": false,
     "tableResultSettingsMap": {},
     "title": ""
    }
   },
   "source": [
    "- Pandas is the Python librarythat is used to perform data analysis, build capabilties that allows us to process data\n",
    "- When you have data or information or data you need a librarythat can handle functions that relates to data processing \n",
    "- SQL is the data processing coding language and Python is a versatile language, and has build in labraries that allow us to perform data manipulation\n",
    "- Pandas is a library that allow us to process data"
   ]
  },
  {
   "cell_type": "code",
   "execution_count": 0,
   "metadata": {
    "application/vnd.databricks.v1+cell": {
     "cellMetadata": {
      "byteLimit": 2048000,
      "rowLimit": 10000
     },
     "inputWidgets": {},
     "nuid": "d5014f08-23c1-47ee-bdfd-46cc442a0973",
     "showTitle": false,
     "tableResultSettingsMap": {},
     "title": ""
    }
   },
   "outputs": [],
   "source": [
    "import pandas as pd # is a python library that allow us to process data, DAta manipulation\n",
    "import numpy as np # is a python library that allow us to perform mathematical calculation"
   ]
  },
  {
   "cell_type": "code",
   "execution_count": 0,
   "metadata": {
    "application/vnd.databricks.v1+cell": {
     "cellMetadata": {
      "byteLimit": 2048000,
      "rowLimit": 10000
     },
     "inputWidgets": {},
     "nuid": "dbc24385-21d4-4ef3-b0ec-c346741ccd4e",
     "showTitle": false,
     "tableResultSettingsMap": {},
     "title": ""
    }
   },
   "outputs": [],
   "source": [
    "df=pd.read_csv('/Workspace/Users/keneilwemolebatsi3@gmail.com/practice-site/retail_sales_dataset (1) (1).csv')"
   ]
  },
  {
   "cell_type": "code",
   "execution_count": 0,
   "metadata": {
    "application/vnd.databricks.v1+cell": {
     "cellMetadata": {
      "byteLimit": 2048000,
      "rowLimit": 10000
     },
     "inputWidgets": {},
     "nuid": "dab7c709-5e55-483a-83ee-a9e97c98e629",
     "showTitle": false,
     "tableResultSettingsMap": {},
     "title": ""
    }
   },
   "outputs": [],
   "source": [
    "display(df)"
   ]
  },
  {
   "cell_type": "markdown",
   "metadata": {
    "application/vnd.databricks.v1+cell": {
     "cellMetadata": {},
     "inputWidgets": {},
     "nuid": "1fa6df04-c60b-4754-bd22-58231505dcd0",
     "showTitle": false,
     "tableResultSettingsMap": {},
     "title": ""
    }
   },
   "source": [
    "When we use a function in python we put .\n",
    "- In SQL we use from table name but in Python we store that entire table and use the library pandas to store it ina data frame Variable\n",
    "- Now when we calll a table name we call the dataframe or variable instead because it consist a table inside and library to help us process our data"
   ]
  },
  {
   "cell_type": "code",
   "execution_count": 0,
   "metadata": {
    "application/vnd.databricks.v1+cell": {
     "cellMetadata": {
      "byteLimit": 2048000,
      "rowLimit": 10000
     },
     "inputWidgets": {},
     "nuid": "58e26662-6c9c-4656-a7f2-25866b2ef156",
     "showTitle": false,
     "tableResultSettingsMap": {},
     "title": ""
    }
   },
   "outputs": [],
   "source": [
    "df.columns"
   ]
  },
  {
   "cell_type": "markdown",
   "metadata": {
    "application/vnd.databricks.v1+cell": {
     "cellMetadata": {},
     "inputWidgets": {},
     "nuid": "59cc9119-16ca-4474-9035-caa445082b7b",
     "showTitle": false,
     "tableResultSettingsMap": {},
     "title": ""
    }
   },
   "source": [
    "#### I know my data is stored in a varibale called df, Its like select * from tabl limit to 10"
   ]
  },
  {
   "cell_type": "code",
   "execution_count": 0,
   "metadata": {
    "application/vnd.databricks.v1+cell": {
     "cellMetadata": {
      "byteLimit": 2048000,
      "rowLimit": 10000
     },
     "inputWidgets": {},
     "nuid": "290817b8-124f-40d3-8b68-c8a8acb47ad5",
     "showTitle": false,
     "tableResultSettingsMap": {},
     "title": ""
    }
   },
   "outputs": [],
   "source": [
    "# To see the first 10 rows of the table\n",
    "df.head(10)"
   ]
  },
  {
   "cell_type": "code",
   "execution_count": 0,
   "metadata": {
    "application/vnd.databricks.v1+cell": {
     "cellMetadata": {
      "byteLimit": 2048000,
      "rowLimit": 10000
     },
     "inputWidgets": {},
     "nuid": "c86eb87f-dce1-4c88-9e9d-b7948ee9f17b",
     "showTitle": false,
     "tableResultSettingsMap": {},
     "title": ""
    }
   },
   "outputs": [],
   "source": [
    "# This shows us the last 5 rows in our dataset\n",
    "df.tail(5)"
   ]
  },
  {
   "cell_type": "markdown",
   "metadata": {
    "application/vnd.databricks.v1+cell": {
     "cellMetadata": {},
     "inputWidgets": {},
     "nuid": "197b4311-87a8-4180-99f4-b101006eb869",
     "showTitle": false,
     "tableResultSettingsMap": {},
     "title": ""
    }
   },
   "source": [
    "## PAndas doesnt only show the data"
   ]
  },
  {
   "cell_type": "markdown",
   "metadata": {
    "application/vnd.databricks.v1+cell": {
     "cellMetadata": {},
     "inputWidgets": {},
     "nuid": "8b33b85d-7c6c-4177-a7d8-6f20c283a9ab",
     "showTitle": false,
     "tableResultSettingsMap": {},
     "title": ""
    }
   },
   "source": [
    "#Understanding the data"
   ]
  },
  {
   "cell_type": "code",
   "execution_count": 0,
   "metadata": {
    "application/vnd.databricks.v1+cell": {
     "cellMetadata": {
      "byteLimit": 2048000,
      "rowLimit": 10000
     },
     "inputWidgets": {},
     "nuid": "48e241a4-ed33-4bda-84cb-01915d153cf0",
     "showTitle": false,
     "tableResultSettingsMap": {},
     "title": ""
    }
   },
   "outputs": [],
   "source": [
    "# Shows us the name of the columns in our dataset\n",
    "df.columns"
   ]
  },
  {
   "cell_type": "markdown",
   "metadata": {
    "application/vnd.databricks.v1+cell": {
     "cellMetadata": {},
     "inputWidgets": {},
     "nuid": "ad599e63-5861-4099-abd2-da987eb61648",
     "showTitle": false,
     "tableResultSettingsMap": {},
     "title": ""
    }
   },
   "source": [
    "In Python, you can distinguish between properties, methods, and functions by how you access them:\n",
    "\n",
    "- Properties are accessed without parentheses, e.g., df.columns. They return a value or object directly.\n",
    "- Methods require parentheses, e.g., df.head(10). They perform an action and may take arguments.\n",
    "- Functions are similar to methods but are not bound to objects; you call them with parentheses and arguments\n",
    "\n",
    "type(df.columns)\n",
    "help(df.head)\n",
    "\n",
    "- The argument is what you place inside the parentheses when calling a method or function. For example, in df.head(10), the argument is 10, which specifies the number of rows to return. Properties like df.columns do not take arguments and are accessed without parentheses."
   ]
  },
  {
   "cell_type": "markdown",
   "metadata": {
    "application/vnd.databricks.v1+cell": {
     "cellMetadata": {},
     "inputWidgets": {},
     "nuid": "36058539-1170-47a5-8b69-2a77235c5330",
     "showTitle": false,
     "tableResultSettingsMap": {},
     "title": ""
    }
   },
   "source": [
    "- A property is an attribute of an object that you access without parentheses. It usually gives you information about the object, like df.columns for column names.\n",
    "\n",
    "- A method is a function that belongs to an object and is called with parentheses. It can perform actions or calculations, often using arguments, like df.head(10) to get the first 10 rows.\n",
    "\n",
    "- A function is a block of code that performs a specific task. It can be standalone or part of a class (then called a method). You call it with parentheses and can pass arguments, like len(df.columns).\n",
    "\n",
    "########### Use a property when you want to get information about an object.\n",
    "Use a method when you want the object to do something or return a result based on arguments.\n",
    "Use a function for general tasks, either on objects or standalone."
   ]
  },
  {
   "cell_type": "code",
   "execution_count": 0,
   "metadata": {
    "application/vnd.databricks.v1+cell": {
     "cellMetadata": {
      "byteLimit": 2048000,
      "rowLimit": 10000
     },
     "inputWidgets": {},
     "nuid": "223e83cd-59ae-44ca-ba1f-854f4211a2a2",
     "showTitle": false,
     "tableResultSettingsMap": {},
     "title": ""
    }
   },
   "outputs": [],
   "source": [
    "# It gives you the number of rows and number of columns\n",
    "df.shape"
   ]
  },
  {
   "cell_type": "code",
   "execution_count": 0,
   "metadata": {
    "application/vnd.databricks.v1+cell": {
     "cellMetadata": {
      "byteLimit": 2048000,
      "rowLimit": 10000
     },
     "inputWidgets": {},
     "nuid": "0268204f-c16f-4022-8224-9c5a75d2ee8c",
     "showTitle": false,
     "tableResultSettingsMap": {},
     "title": ""
    }
   },
   "outputs": [],
   "source": [
    "# Summary of our data\n",
    "df.info()"
   ]
  },
  {
   "cell_type": "code",
   "execution_count": 0,
   "metadata": {
    "application/vnd.databricks.v1+cell": {
     "cellMetadata": {
      "byteLimit": 2048000,
      "rowLimit": 10000
     },
     "inputWidgets": {},
     "nuid": "bfcf120d-1bc0-49cb-9d97-d9e5f795736c",
     "showTitle": false,
     "tableResultSettingsMap": {},
     "title": ""
    }
   },
   "outputs": [],
   "source": [
    "# This shows you the column name swith their datatypes, you do this because when you do data processing you need to show that your data types are correct\n",
    "df.dtypes"
   ]
  },
  {
   "cell_type": "code",
   "execution_count": 0,
   "metadata": {
    "application/vnd.databricks.v1+cell": {
     "cellMetadata": {
      "byteLimit": 2048000,
      "rowLimit": 10000
     },
     "inputWidgets": {},
     "nuid": "4eeb72c6-5c78-4e8e-84f6-23bd8abf5512",
     "showTitle": false,
     "tableResultSettingsMap": {},
     "title": ""
    }
   },
   "outputs": [],
   "source": [
    "# Check the number of null values in each column\n",
    "df.isnull().sum()"
   ]
  },
  {
   "cell_type": "code",
   "execution_count": 0,
   "metadata": {
    "application/vnd.databricks.v1+cell": {
     "cellMetadata": {},
     "inputWidgets": {},
     "nuid": "73b78745-f865-44a3-99ab-793c47fcc0f4",
     "showTitle": false,
     "tableResultSettingsMap": {},
     "title": ""
    }
   },
   "outputs": [],
   "source": [
    "# Null - blank,null,missing"
   ]
  },
  {
   "cell_type": "markdown",
   "metadata": {
    "application/vnd.databricks.v1+cell": {
     "cellMetadata": {},
     "inputWidgets": {},
     "nuid": "4e837cb6-8804-40c7-93cf-7366b73ec842",
     "showTitle": false,
     "tableResultSettingsMap": {},
     "title": ""
    }
   },
   "source": [
    "- Is there a repeated value\n",
    "- Duplicate we talk abiut 2 rows that are the same, we can't say 2 coluns are the same to be duplicated its only rows\n"
   ]
  },
  {
   "cell_type": "code",
   "execution_count": 0,
   "metadata": {
    "application/vnd.databricks.v1+cell": {
     "cellMetadata": {
      "byteLimit": 2048000,
      "rowLimit": 10000
     },
     "inputWidgets": {},
     "nuid": "09865994-d88b-40b9-b56c-e082200a5cab",
     "showTitle": false,
     "tableResultSettingsMap": {},
     "title": ""
    }
   },
   "outputs": [],
   "source": [
    "# Duplicates questions row level, it check within the coluns to see which rows are duplicated\n",
    "df.duplicated()"
   ]
  },
  {
   "cell_type": "code",
   "execution_count": 0,
   "metadata": {
    "application/vnd.databricks.v1+cell": {
     "cellMetadata": {
      "byteLimit": 2048000,
      "rowLimit": 10000
     },
     "inputWidgets": {},
     "nuid": "013ffc92-3b3b-4a2c-8380-98aa1f6c9a2d",
     "showTitle": false,
     "tableResultSettingsMap": {},
     "title": ""
    }
   },
   "outputs": [],
   "source": [
    "# It count the number of rows that are duplicated in our dataset\n",
    "df.duplicated().sum()"
   ]
  },
  {
   "cell_type": "markdown",
   "metadata": {
    "application/vnd.databricks.v1+cell": {
     "cellMetadata": {},
     "inputWidgets": {},
     "nuid": "2f4117f3-9b63-4d92-82d2-f025839fbd8e",
     "showTitle": false,
     "tableResultSettingsMap": {},
     "title": ""
    }
   },
   "source": [
    "- In Python, an \"object\" refers to an instance of a class, which can be stored in a variable. So, when you see statements like df.columns, df is a variable that holds a DataFrame object. The object is the actual data structure (DataFrame), and the variable (df) is the name you use to reference it in your code."
   ]
  }
 ],
 "metadata": {
  "application/vnd.databricks.v1+notebook": {
   "computePreferences": null,
   "dashboards": [],
   "environmentMetadata": {
    "base_environment": "",
    "environment_version": "3"
   },
   "inputWidgetPreferences": null,
   "language": "python",
   "notebookMetadata": {
    "pythonIndentUnit": 4
   },
   "notebookName": "Recording Notebook",
   "widgets": {}
  },
  "language_info": {
   "name": "python"
  }
 },
 "nbformat": 4,
 "nbformat_minor": 0
}
