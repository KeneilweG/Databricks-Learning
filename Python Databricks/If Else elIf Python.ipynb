{
 "cells": [
  {
   "cell_type": "code",
   "execution_count": 0,
   "metadata": {
    "application/vnd.databricks.v1+cell": {
     "cellMetadata": {},
     "inputWidgets": {},
     "nuid": "d3c74959-6ed9-496a-8f48-5498ecb55a8c",
     "showTitle": true,
     "tableResultSettingsMap": {},
     "title": "ytho"
    }
   },
   "outputs": [],
   "source": [
    "# Python Logical Conditions\n",
    "# Equals a==b - In python we use to equal signs to say equal\n",
    "# Not Equals a!=b\n",
    "# Greater Than a>b\n",
    "# Less Than a<b\n",
    "# Greater Than or Equal to a>=b\n",
    "# Less Than or Equal to a<=b\n",
    "# And a and b\n",
    "# Or a or b\n",
    "# Not not a\n",
    "# In a in b\n",
    "# Not in a not in b"
   ]
  },
  {
   "cell_type": "code",
   "execution_count": 0,
   "metadata": {
    "application/vnd.databricks.v1+cell": {
     "cellMetadata": {},
     "inputWidgets": {},
     "nuid": "1884a923-0a38-459d-8113-37c0c3ece1d2",
     "showTitle": false,
     "tableResultSettingsMap": {},
     "title": ""
    }
   },
   "outputs": [],
   "source": [
    "# If Else is like Case Statement"
   ]
  },
  {
   "cell_type": "code",
   "execution_count": 0,
   "metadata": {
    "application/vnd.databricks.v1+cell": {
     "cellMetadata": {
      "byteLimit": 2048000,
      "rowLimit": 10000
     },
     "inputWidgets": {},
     "nuid": "75b2938c-1f15-4da0-98b5-b5e923f67a70",
     "showTitle": false,
     "tableResultSettingsMap": {},
     "title": ""
    }
   },
   "outputs": [],
   "source": [
    "# So the elif it is used to write the secondary conditions\n",
    "# Else doesnt have a conditions if any of the conditions in if and ifel then \"else the default value\"\n",
    "# Put all logical conditions in the if and elif\n",
    "# We declare variable to store a variable\n",
    "\n",
    "\n",
    "a=10\n",
    "b=1\n",
    "\n",
    "if a==b:\n",
    "  print(\"Keneilwe\")\n",
    "elif a>b:\n",
    "    print(\"Molebatsi\")\n"
   ]
  },
  {
   "cell_type": "code",
   "execution_count": 0,
   "metadata": {
    "application/vnd.databricks.v1+cell": {
     "cellMetadata": {},
     "inputWidgets": {},
     "nuid": "2102121b-de2f-4cc6-8a2c-7d3d54b894b0",
     "showTitle": false,
     "tableResultSettingsMap": {},
     "title": ""
    }
   },
   "outputs": [],
   "source": [
    "%sql\n",
    "SELECT \n",
    "CASE \n",
    "  WHEN a=b THEN 'Keneilwe'\n",
    "  when a=b THEN 'Keneilwe' #iF PUT ANOTHER WHEN WHEN THE ABOVE IS NOT MET  \n",
    "  ELSE 'default Value\""
   ]
  },
  {
   "cell_type": "code",
   "execution_count": 0,
   "metadata": {
    "application/vnd.databricks.v1+cell": {
     "cellMetadata": {},
     "inputWidgets": {},
     "nuid": "44f8f36e-e51c-4ef3-b38b-decae1d93aa7",
     "showTitle": false,
     "tableResultSettingsMap": {},
     "title": ""
    }
   },
   "outputs": [],
   "source": [
    "file.upload()"
   ]
  },
  {
   "cell_type": "code",
   "execution_count": 0,
   "metadata": {
    "application/vnd.databricks.v1+cell": {
     "cellMetadata": {
      "byteLimit": 2048000,
      "rowLimit": 10000
     },
     "inputWidgets": {},
     "nuid": "a959d654-abbf-4a91-93e2-51fc82573895",
     "showTitle": false,
     "tableResultSettingsMap": {},
     "title": ""
    }
   },
   "outputs": [],
   "source": [
    "import pandas as pd # Pandas is a python library that help in procesing data or to perform data manipulation\n",
    "import numpy as np # Numpy is a python library that help in performing mathematical operations/calculation\n",
    "# Pandas is a python library that help in procesing data or to"
   ]
  },
  {
   "cell_type": "code",
   "execution_count": 0,
   "metadata": {
    "application/vnd.databricks.v1+cell": {
     "cellMetadata": {},
     "inputWidgets": {},
     "nuid": "bc8d31f5-de9e-434c-9539-6e5a0e066d50",
     "showTitle": false,
     "tableResultSettingsMap": {},
     "title": ""
    }
   },
   "outputs": [],
   "source": [
    "df = pd.read_csv('/')"
   ]
  },
  {
   "cell_type": "code",
   "execution_count": 0,
   "metadata": {
    "application/vnd.databricks.v1+cell": {
     "cellMetadata": {},
     "inputWidgets": {},
     "nuid": "f22f4792-6355-47f1-82f5-a47b6e37750a",
     "showTitle": false,
     "tableResultSettingsMap": {},
     "title": ""
    }
   },
   "outputs": [],
   "source": [
    "#Df.columns it shows us the names of the columns in our dataset\n",
    "#.shape gives you the numer of rows and columns in your dataset stored in a variable called df\n",
    "#df.info gives you datatype of each columns, summary of data\n",
    "#Summarize the information you have\n",
    "#df.dtypes gives you summary of the data types and the column name\n",
    "#Make sure the format of the date type is in the correct format\n",
    "#df.isnull().sum() gives you the number of missing values in each column\n",
    "#df.duplicated().sum() gives you the number of duplicated values in), Two rows being that are the same/look at the rows\n",
    "#df.drop_duplicates(inplace=True)\n",
    "#df.describe()\n"
   ]
  }
 ],
 "metadata": {
  "application/vnd.databricks.v1+notebook": {
   "computePreferences": null,
   "dashboards": [],
   "environmentMetadata": {
    "base_environment": "",
    "environment_version": "3"
   },
   "inputWidgetPreferences": null,
   "language": "python",
   "notebookMetadata": {
    "pythonIndentUnit": 4
   },
   "notebookName": "If Else elIf Python",
   "widgets": {}
  },
  "language_info": {
   "name": "python"
  }
 },
 "nbformat": 4,
 "nbformat_minor": 0
}
